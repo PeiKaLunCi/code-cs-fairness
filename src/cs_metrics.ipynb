{
 "cells": [
  {
   "cell_type": "code",
   "execution_count": null,
   "metadata": {},
   "outputs": [],
   "source": [
    "import glob\n",
    "import matplotlib\n",
    "import matplotlib.pyplot as plt\n",
    "# import seaborn as sns\n",
    "%matplotlib inline\n",
    "from matplotlib.backends.backend_pdf import PdfPages\n",
    "from PIL import Image\n",
    "import numpy as np\n",
    "matplotlib.rcParams['pdf.fonttype'] = 42\n",
    "matplotlib.rcParams['ps.fonttype'] = 42\n",
    "\n",
    "import utils\n",
    "import metrics_utils\n",
    "\n",
    "matplotlib.rcParams.update({'font.size': 15, 'font.weight':'normal'})\n",
    "\n",
    "is_save = True\n",
    "figsize = metrics_utils.get_figsize(is_save)"
   ]
  },
  {
   "cell_type": "markdown",
   "metadata": {},
   "source": [
    "# CelebA results"
   ]
  },
  {
   "cell_type": "code",
   "execution_count": null,
   "metadata": {},
   "outputs": [],
   "source": [
    "# hyperparameters that gave best validation error\n",
    "# MAP and Ours\n",
    "\n",
    "dset = 'celebA'\n",
    "noise_std = 16.0\n",
    "legend_base_regexs = [\n",
    "    ('Langevin(Ours)',\n",
    "    f'../estimated/{dset}/full-input/circulant/{noise_std}/',\n",
    "     '/glow/*langevin/None*'),\n",
    "        ('MAP',\n",
    "    f'../estimated*/celebA/full-input/circulant/{noise_std}/',\n",
    "     '/glow/map/None_None*'),\n",
    "]\n",
    "\n"
   ]
  },
  {
   "cell_type": "code",
   "execution_count": null,
   "metadata": {},
   "outputs": [],
   "source": [
    "## Plot\n",
    "retrieve = 'l2'\n",
    "crit= 'likelihood'\n",
    "pdf = PdfPages(f'../results/dset={dset}_noise={noise_std}_retrieve={retrieve}_criterion={crit}.pdf')\n",
    "ax = plt.axes()\n",
    "criterion = [crit, 'mean']\n",
    "retrieve_list = [[retrieve, 'mean'], [retrieve, 'std']]\n",
    "legends = []\n",
    "colors = dict()\n",
    "for legend, base, regex in legend_base_regexs:\n",
    "    if legend == 'Modified-MAP':\n",
    "        criterion = ['l2', 'mean']\n",
    "    colors[legend] = metrics_utils.plot(base, regex, criterion, retrieve_list, legend)\n",
    "    legends.append(legend)\n",
    "    \n",
    "\n",
    "\n",
    "\n",
    "plt.gca().set_xscale(\"log\", nonposx='clip')\n",
    "plt.gca().set_ylim([0,0.008])\n",
    "plt.gca().xaxis.set_major_formatter(plt.NullFormatter())\n",
    "plt.gca().xaxis.set_minor_formatter(plt.NullFormatter())\n",
    "\n",
    "# labels, ticks, titles\n",
    "ticks = [2500,5000,10000,20000,30000,35000]\n",
    "labels = ticks\n",
    "\n",
    "\n",
    "# plt.gca().set_xticks(ticks, labels)#, rotation='vertical')\n",
    "plt.xticks(ticks, labels, rotation='vertical')\n",
    "plt.ylabel('Reconstruction error (per pixel)')\n",
    "plt.xlabel('Number of measurements')\n",
    "\n",
    "\n",
    "# Legends\n",
    "plt.legend(fontsize=8)\n",
    "\n",
    "pdf.savefig(bbox_inches='tight')\n",
    "pdf.close()\n",
    "\n",
    "\n"
   ]
  },
  {
   "cell_type": "markdown",
   "metadata": {},
   "source": [
    "# FFHQ results"
   ]
  },
  {
   "cell_type": "code",
   "execution_count": null,
   "metadata": {},
   "outputs": [],
   "source": [
    "# hyperparameters that gave best validation error\n",
    "# MAP and Ours\n",
    "\n",
    "\n",
    "\n",
    "dset = 'ffhq-69000'\n",
    "noise_std = 4.0\n",
    "legend_base_regexs = [\n",
    "    ('MAP',\n",
    "    f'../estimated/{dset}/full-input/circulant/{noise_std}/',\n",
    "     '/ncsnv2/map/*'),\n",
    "    ('Langevin(Ours)',\n",
    "    f'../estimated/{dset}/full-input/circulant/{noise_std}/',\n",
    "     '/ncsnv2/langevin/*')\n",
    "]"
   ]
  },
  {
   "cell_type": "code",
   "execution_count": null,
   "metadata": {},
   "outputs": [],
   "source": [
    "## Plot\n",
    "retrieve = 'l2'\n",
    "crit = 'l2'\n",
    "pdf = PdfPages(f'../results/dset={dset}_noise={noise_std}_retrieve={retrieve}_criterion={crit}.pdf')\n",
    "ax = plt.axes()\n",
    "criterion = [crit, 'mean']\n",
    "retrieve_list = [[retrieve, 'mean'], [retrieve, 'std']]\n",
    "legends = []\n",
    "colors = dict()\n",
    "for legend, base, regex in legend_base_regexs:\n",
    "    colors[legend] = metrics_utils.plot(base, regex, criterion, retrieve_list, legend)\n",
    "    legends.append(legend)\n",
    "    \n",
    "\n",
    "\n",
    "\n",
    "plt.gca().set_xscale(\"log\", nonposx='clip')\n",
    "plt.gca().set_ylim([0,0.005])\n",
    "plt.gca().xaxis.set_major_formatter(plt.NullFormatter())\n",
    "plt.gca().xaxis.set_minor_formatter(plt.NullFormatter())\n",
    "\n",
    "# # labels, ticks, titles\n",
    "ticks = [5000, 10000, 15000, 20000, 30000, 40000, 50000, 75000]\n",
    "labels = ticks\n",
    "\n",
    "plt.xticks(ticks, labels, rotation='vertical')\n",
    "plt.ylabel('Reconstruction error (per pixel)')\n",
    "plt.xlabel('Number of measurements')\n",
    "\n",
    "\n",
    "# Legends\n",
    "plt.legend(fontsize=8)\n",
    "\n",
    "pdf.savefig(bbox_inches='tight')\n",
    "pdf.close()\n",
    "\n",
    "\n"
   ]
  }
 ],
 "metadata": {
  "kernelspec": {
   "display_name": "cs-full",
   "language": "python",
   "name": "cs-full"
  },
  "language_info": {
   "codemirror_mode": {
    "name": "ipython",
    "version": 3
   },
   "file_extension": ".py",
   "mimetype": "text/x-python",
   "name": "python",
   "nbconvert_exporter": "python",
   "pygments_lexer": "ipython3",
   "version": "3.6.12"
  }
 },
 "nbformat": 4,
 "nbformat_minor": 1
}
